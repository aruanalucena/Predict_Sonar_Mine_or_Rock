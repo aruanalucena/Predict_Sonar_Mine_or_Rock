{
  "nbformat": 4,
  "nbformat_minor": 0,
  "metadata": {
    "colab": {
      "name": "Rocks vs Mine Prediction.ipynb",
      "private_outputs": true,
      "provenance": [],
      "authorship_tag": "ABX9TyM40X6zKuURbVL0Ds4KI1S1",
      "include_colab_link": true
    },
    "kernelspec": {
      "name": "python3",
      "display_name": "Python 3"
    },
    "language_info": {
      "name": "python"
    }
  },
  "cells": [
    {
      "cell_type": "markdown",
      "metadata": {
        "id": "view-in-github",
        "colab_type": "text"
      },
      "source": [
        "<a href=\"https://colab.research.google.com/github/aruanalucena/Predict_Sonar_Mine_or_Rock/blob/main/Rocks_vs_Mine_Prediction.ipynb\" target=\"_parent\"><img src=\"https://colab.research.google.com/assets/colab-badge.svg\" alt=\"Open In Colab\"/></a>"
      ]
    },
    {
      "cell_type": "markdown",
      "metadata": {
        "id": "LQhVR161v3Pl"
      },
      "source": [
        "![Imgur](https://i.imgur.com/IU1iapG.jpg)"
      ]
    },
    {
      "cell_type": "markdown",
      "metadata": {
        "id": "yr0Chhy4r-rE"
      },
      "source": [
        "![Imgur](https://i.imgur.com/uIJxZZj.png)"
      ]
    },
    {
      "cell_type": "code",
      "metadata": {
        "id": "wGGaYXuJo9qa"
      },
      "source": [
        "%%html\n",
        "<h1><marquee style='width: 100% ', font color= 'arrows';><b>Rocks vx Mine Prediction!  Previsão Rochas vs Minas! </b></marquee></h1>"
      ],
      "execution_count": null,
      "outputs": []
    },
    {
      "cell_type": "markdown",
      "metadata": {
        "id": "5f2TmXUZxPPz"
      },
      "source": [
        "# Importing the Dependencies\n",
        "# <font color = 'blue'> Importando as bibliotecas\n",
        "***"
      ]
    },
    {
      "cell_type": "code",
      "metadata": {
        "id": "etvfGwV6vA5k"
      },
      "source": [
        "import pandas as pd\n",
        "import numpy as np\n",
        "from sklearn.model_selection  import train_test_split\n",
        "from sklearn.linear_model import  LogisticRegression\n",
        "from sklearn.metrics import  accuracy_score"
      ],
      "execution_count": null,
      "outputs": []
    },
    {
      "cell_type": "markdown",
      "metadata": {
        "id": "IEHY77ORyPvL"
      },
      "source": [
        "#  Data Collection and Data Processing\n",
        "# <font color='blue'> Coleta e processamento dos Dados\n",
        "\n",
        "- loading the dataset to a pandas DataFrame\n",
        "-<font color='blue'> Carregando o dataset para o pandas DataFrame\n",
        "***"
      ]
    },
    {
      "cell_type": "code",
      "metadata": {
        "id": "cOV_q58atojF"
      },
      "source": [
        "sonar_data = pd.read_csv('https://docs.google.com/spreadsheets/d/e/2PACX-1vSbMzty9Xm_xGg2RNuh2yKr9moSd4HR_3Ye81fIM2wJoMU3bgyr6mZSsjvHXKHYYCqPy05f6N2_A-RQ/pub?output=csv', header=None)"
      ],
      "execution_count": null,
      "outputs": []
    },
    {
      "cell_type": "code",
      "metadata": {
        "id": "t1RTtytit1Tf"
      },
      "source": [
        "sonar_data.head()"
      ],
      "execution_count": null,
      "outputs": []
    },
    {
      "cell_type": "markdown",
      "metadata": {
        "id": "ZwmaMmnozlRK"
      },
      "source": [
        "- Number of rows and columns\n",
        "-<font color='blue'>Numero de linhas e colunas\n",
        "***"
      ]
    },
    {
      "cell_type": "code",
      "metadata": {
        "id": "rW1shkDbvMSr"
      },
      "source": [
        "sonar_date.shape"
      ],
      "execution_count": null,
      "outputs": []
    },
    {
      "cell_type": "markdown",
      "metadata": {
        "id": "y5VWa9Qu0BWC"
      },
      "source": [
        "- Statistical measures of the data\n",
        "-<font color='blue'> Estatistica descritiva dos dados\n",
        "***"
      ]
    },
    {
      "cell_type": "code",
      "metadata": {
        "id": "aoxZvRrAvU0a"
      },
      "source": [
        "sonar_data.describe()"
      ],
      "execution_count": null,
      "outputs": []
    },
    {
      "cell_type": "code",
      "metadata": {
        "id": "vcc11WvY0jkR"
      },
      "source": [
        "sonar_data.info()"
      ],
      "execution_count": null,
      "outputs": []
    },
    {
      "cell_type": "code",
      "metadata": {
        "id": "-2As8oQa1X4I"
      },
      "source": [
        "sonar_data[60].value_counts()"
      ],
      "execution_count": null,
      "outputs": []
    },
    {
      "cell_type": "markdown",
      "metadata": {
        "id": "gJPxPt4h1k_z"
      },
      "source": [
        "<font color ='red'>**M**--> Mine , Mina\n",
        "\n",
        "<font color ='blue'>**R**--> Rock, Rocha\n",
        "*** "
      ]
    },
    {
      "cell_type": "code",
      "metadata": {
        "id": "_abk8yB41gFh"
      },
      "source": [
        "sonar_data.groupby(60).mean()"
      ],
      "execution_count": null,
      "outputs": []
    },
    {
      "cell_type": "markdown",
      "metadata": {
        "id": "7p3XXxkb1-KZ"
      },
      "source": [
        "- Separating data and labels\n",
        "-<font color='blue'>Separando os dados numericos do categóricos(alvo)\n",
        "***"
      ]
    },
    {
      "cell_type": "code",
      "metadata": {
        "id": "UPenPiUE14KQ"
      },
      "source": [
        "X = sonar_data.drop(columns=60, axis=1)\n",
        "Y = sonar_data[60]"
      ],
      "execution_count": null,
      "outputs": []
    },
    {
      "cell_type": "code",
      "metadata": {
        "id": "zOUGbOv22jR3"
      },
      "source": [
        "print(X)\n",
        "print(Y)"
      ],
      "execution_count": null,
      "outputs": []
    },
    {
      "cell_type": "markdown",
      "metadata": {
        "id": "JfRRB0DK229a"
      },
      "source": [
        "- Training and Test Data\n",
        "-<font color='blue'> Separar dados de Treino e Teste\n",
        "***"
      ]
    },
    {
      "cell_type": "code",
      "metadata": {
        "id": "1bvtX58z2pZo"
      },
      "source": [
        "X_train, X_test, Y_train,Y_test = train_test_split(X,Y,test_size=0.1, stratify = Y, random_state=1)"
      ],
      "execution_count": null,
      "outputs": []
    },
    {
      "cell_type": "code",
      "metadata": {
        "id": "ETTtr90z30Wc"
      },
      "source": [
        "print(X.shape, X_train.shape,X_test.shape)"
      ],
      "execution_count": null,
      "outputs": []
    },
    {
      "cell_type": "markdown",
      "metadata": {
        "id": "-9Z-_NJ64OWK"
      },
      "source": [
        "- Model Training --> LogisticRegression\n",
        "-<font color='blue'>Modelo de Treino --> Regressão Logistica\n",
        "***"
      ]
    },
    {
      "cell_type": "markdown",
      "metadata": {
        "id": "ibrGVXcj5DpT"
      },
      "source": [
        "- Training the Logistic Regression model with training data\n",
        "- <font color='blue'>Treino de regressão Logistica modelo com treino dos dados\n",
        "***"
      ]
    },
    {
      "cell_type": "code",
      "metadata": {
        "id": "lYA99SPw4I7H"
      },
      "source": [
        "model = LogisticRegression()"
      ],
      "execution_count": null,
      "outputs": []
    },
    {
      "cell_type": "code",
      "metadata": {
        "id": "GoDRjSAD5g-a"
      },
      "source": [
        "model.fit(X_train, Y_train)"
      ],
      "execution_count": null,
      "outputs": []
    },
    {
      "cell_type": "markdown",
      "metadata": {
        "id": "g9FNFE3b52XJ"
      },
      "source": [
        "- Model Evaluation\n",
        "-<font color='blue'>Avaliação do Modelo\n",
        "\n",
        "- Accuracy on training data\n",
        "- <font color = 'blue'>Precisão dos dados de treino\n",
        "*** "
      ]
    },
    {
      "cell_type": "code",
      "metadata": {
        "id": "xXlmhQYG5CK6"
      },
      "source": [
        "X_train_prediction = model.predict(X_train)\n",
        "training_data_accuracy = accuracy_score(X_train_prediction, Y_train)"
      ],
      "execution_count": null,
      "outputs": []
    },
    {
      "cell_type": "code",
      "metadata": {
        "id": "l4oT7Jw87pSu"
      },
      "source": [
        "print('Accuracy on training data: ', training_data_accuracy)"
      ],
      "execution_count": null,
      "outputs": []
    },
    {
      "cell_type": "markdown",
      "metadata": {
        "id": "4iJIbx488RDS"
      },
      "source": [
        "- Accuracy on teste data\n",
        "- <font color = 'blue'>Precisão dos dados de teste\n",
        "***"
      ]
    },
    {
      "cell_type": "code",
      "metadata": {
        "id": "f6eFcSW37zfk"
      },
      "source": [
        "X_test_prediction = model.predict(X_test)\n",
        "test_data_accuracy = accuracy_score(X_test_prediction, Y_test)"
      ],
      "execution_count": null,
      "outputs": []
    },
    {
      "cell_type": "code",
      "metadata": {
        "id": "LagTLdDc8euN"
      },
      "source": [
        "print('Accuracy on test data: ', test_data_accuracy)"
      ],
      "execution_count": null,
      "outputs": []
    },
    {
      "cell_type": "markdown",
      "metadata": {
        "id": "ZFVuImQw8zip"
      },
      "source": [
        "- Making a Predictive System \n",
        "- <font color='blue'>Fazer um Sistema Preditivo\n",
        "\n",
        "***"
      ]
    },
    {
      "cell_type": "code",
      "metadata": {
        "id": "iWYpYkxT8rWY"
      },
      "source": [
        "input_data = (519,548,842,319,1.158,922,1.027,613,1.465,2.838,2.802,3.086,2.657,3.801,5.626,4.376,2.617,1.199,6.676,9.402,7.832,5.352,6.809,9.174,7.613,8.220,8.872,6.091,2.967,1.103,1.318,624,990,4.006,3.666,1.050,1.915,3.930,4.288,2.546,1.151,2.196,1.879,1.437,2.146,2.360,1.125,254,285,178,52,81,120,45,121,97,85,47,48,53)"
      ],
      "execution_count": null,
      "outputs": []
    },
    {
      "cell_type": "markdown",
      "metadata": {
        "id": "yiNwC4Gv_NuA"
      },
      "source": [
        "- Changing the input_data to a numpy array\n",
        "- <font color='blue'>Alterar os dados de entrada_dados para uma matriz numérica\n",
        "***"
      ]
    },
    {
      "cell_type": "code",
      "metadata": {
        "id": "sXGjLVSa_O-a"
      },
      "source": [
        "input_data_as_numpy_array = np.asarray(input_data)"
      ],
      "execution_count": null,
      "outputs": []
    },
    {
      "cell_type": "markdown",
      "metadata": {
        "id": "Urcp3aqU_WNg"
      },
      "source": [
        "- Reshape the np array as we are predicting for one instance\n",
        "-<font color='blue'>Reformular a matriz np como estamos a prever, por exemplo\n",
        "***"
      ]
    },
    {
      "cell_type": "code",
      "metadata": {
        "id": "U9CCdwUB_DBY"
      },
      "source": [
        "input_data_reshaped = input_data_as_numpy_array.reshape(1,-1)"
      ],
      "execution_count": null,
      "outputs": []
    },
    {
      "cell_type": "code",
      "metadata": {
        "id": "8nR_glDQ_zdX"
      },
      "source": [
        "prediction = model.predict(input_data_reshaped)\n",
        "print(prediction)\n",
        "\n",
        "if (prediction[0]=='R'):\n",
        "    print('The object is a Rock')\n",
        "else:\n",
        "    print('The object is a Mine')    \n"
      ],
      "execution_count": null,
      "outputs": []
    },
    {
      "cell_type": "markdown",
      "metadata": {
        "id": "BnKKJIrxBnPw"
      },
      "source": [
        "The end\n",
        "***"
      ]
    },
    {
      "cell_type": "code",
      "metadata": {
        "id": "oVBDhY6OBlGH"
      },
      "source": [
        ""
      ],
      "execution_count": null,
      "outputs": []
    }
  ]
}